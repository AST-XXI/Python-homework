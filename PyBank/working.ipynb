{
 "cells": [
  {
   "cell_type": "code",
   "execution_count": null,
   "id": "ea9f68c3-eb40-415b-8f18-2fef2775e517",
   "metadata": {},
   "outputs": [],
   "source": [
    "# Inital Imports\n",
    "import pandas as pd\n",
    "from pathlib import Path\n",
    "import csv\n",
    "\n",
    "# file path\n",
    "budget_csvpath = Path(\"budget_data.csv\")\n",
    "budget_csvpath = pd.read_csv(budget_csvpath)\n",
    "\n",
    "#total Months:\n",
    "print(budget_csvpath[\"Date\"].count())\n",
    "\n",
    "\n",
    "total: \n",
    "print(budget_csvpath[\"Profit/Losses\"].sum())\n",
    "\n",
    "\n",
    "\n"
   ]
  }
 ],
 "metadata": {
  "kernelspec": {
   "display_name": "Python 3",
   "language": "python",
   "name": "python3"
  },
  "language_info": {
   "codemirror_mode": {
    "name": "ipython",
    "version": 3
   },
   "file_extension": ".py",
   "mimetype": "text/x-python",
   "name": "python",
   "nbconvert_exporter": "python",
   "pygments_lexer": "ipython3",
   "version": "3.8.8"
  }
 },
 "nbformat": 4,
 "nbformat_minor": 5
}
