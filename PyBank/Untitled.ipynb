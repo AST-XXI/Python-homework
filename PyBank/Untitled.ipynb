{
 "cells": [
  {
   "cell_type": "code",
   "execution_count": 1,
   "id": "3cb6b142-6256-4e20-a503-30c077b841c8",
   "metadata": {},
   "outputs": [
    {
     "ename": "FileNotFoundError",
     "evalue": "[Errno 2] No such file or directory: 'budget_csvpath'",
     "output_type": "error",
     "traceback": [
      "\u001b[1;31m---------------------------------------------------------------------------\u001b[0m",
      "\u001b[1;31mFileNotFoundError\u001b[0m                         Traceback (most recent call last)",
      "\u001b[1;32m<ipython-input-1-5566c52f6545>\u001b[0m in \u001b[0;36m<module>\u001b[1;34m\u001b[0m\n\u001b[0;32m      1\u001b[0m \u001b[1;32mimport\u001b[0m \u001b[0mcsv\u001b[0m\u001b[1;33m\u001b[0m\u001b[1;33m\u001b[0m\u001b[0m\n\u001b[0;32m      2\u001b[0m \u001b[1;33m\u001b[0m\u001b[0m\n\u001b[1;32m----> 3\u001b[1;33m \u001b[1;32mwith\u001b[0m \u001b[0mopen\u001b[0m\u001b[1;33m(\u001b[0m\u001b[1;34m\"budget_csvpath\"\u001b[0m\u001b[1;33m)\u001b[0m \u001b[1;32mas\u001b[0m \u001b[0mcsv_file\u001b[0m\u001b[1;33m:\u001b[0m\u001b[1;33m\u001b[0m\u001b[1;33m\u001b[0m\u001b[0m\n\u001b[0m\u001b[0;32m      4\u001b[0m     \u001b[0mcsv_reader\u001b[0m \u001b[1;33m=\u001b[0m \u001b[0mcsv\u001b[0m\u001b[1;33m.\u001b[0m\u001b[0mreader\u001b[0m\u001b[1;33m(\u001b[0m\u001b[0mcsv_file\u001b[0m\u001b[1;33m,\u001b[0m \u001b[0mdelimiter\u001b[0m\u001b[1;33m=\u001b[0m \u001b[1;34m','\u001b[0m\u001b[1;33m)\u001b[0m\u001b[1;33m\u001b[0m\u001b[1;33m\u001b[0m\u001b[0m\n\u001b[0;32m      5\u001b[0m     \u001b[0mline_count\u001b[0m \u001b[1;33m=\u001b[0m \u001b[1;36m0\u001b[0m\u001b[1;33m\u001b[0m\u001b[1;33m\u001b[0m\u001b[0m\n",
      "\u001b[1;31mFileNotFoundError\u001b[0m: [Errno 2] No such file or directory: 'budget_csvpath'"
     ]
    }
   ],
   "source": [
    "import csv\n",
    "\n",
    "with open(\"budget_csvpath\") as csv_file:\n",
    "    csv_reader = csv.reader(csv_file, delimiter= ',')\n",
    "    line_count = 0\n",
    "    for row in csv_reader:\n",
    "        if line_count ==0:\n",
    "            print(f'Column name are {\",\".join(row)}')\n",
    "            line_count += 1\n",
    "        else:\n",
    "            print(f'\\t{row[0]} works in the {row[1]}')\n",
    "            line_count += 1\n",
    "    print(f'Processed {line_count}line.')\n",
    "\n",
    "    "
   ]
  },
  {
   "cell_type": "code",
   "execution_count": 8,
   "id": "3aa6ab09-5747-4a50-aa9c-8c76e2b88659",
   "metadata": {},
   "outputs": [
    {
     "name": "stdout",
     "output_type": "stream",
     "text": [
      "Column name are Date,Profit/Losses\n",
      "\tJan-2010 works in the 867884\n",
      "\tFeb-2010 works in the 984655\n",
      "\tMar-2010 works in the 322013\n",
      "\tApr-2010 works in the -69417\n",
      "\tMay-2010 works in the 310503\n",
      "\tJun-2010 works in the 522857\n",
      "\tJul-2010 works in the 1033096\n",
      "\tAug-2010 works in the 604885\n",
      "\tSep-2010 works in the -216386\n",
      "\tOct-2010 works in the 477532\n",
      "\tNov-2010 works in the 893810\n",
      "\tDec-2010 works in the -80353\n",
      "\tJan-2011 works in the 779806\n",
      "\tFeb-2011 works in the -335203\n",
      "\tMar-2011 works in the 697845\n",
      "\tApr-2011 works in the 793163\n",
      "\tMay-2011 works in the 485070\n",
      "\tJun-2011 works in the 584122\n",
      "\tJul-2011 works in the 62729\n",
      "\tAug-2011 works in the 668179\n",
      "\tSep-2011 works in the 899906\n",
      "\tOct-2011 works in the 834719\n",
      "\tNov-2011 works in the 132003\n",
      "\tDec-2011 works in the 309978\n",
      "\tJan-2012 works in the -755566\n",
      "\tFeb-2012 works in the 1170593\n",
      "\tMar-2012 works in the 252788\n",
      "\tApr-2012 works in the 1151518\n",
      "\tMay-2012 works in the 817256\n",
      "\tJun-2012 works in the 570757\n",
      "\tJul-2012 works in the 506702\n",
      "\tAug-2012 works in the -1022534\n",
      "\tSep-2012 works in the 475062\n",
      "\tOct-2012 works in the 779976\n",
      "\tNov-2012 works in the 144175\n",
      "\tDec-2012 works in the 542494\n",
      "\tJan-2013 works in the 359333\n",
      "\tFeb-2013 works in the 321469\n",
      "\tMar-2013 works in the 67780\n",
      "\tApr-2013 works in the 471435\n",
      "\tMay-2013 works in the 565603\n",
      "\tJun-2013 works in the 872480\n",
      "\tJul-2013 works in the 789480\n",
      "\tAug-2013 works in the 999942\n",
      "\tSep-2013 works in the -1196225\n",
      "\tOct-2013 works in the 268997\n",
      "\tNov-2013 works in the -687986\n",
      "\tDec-2013 works in the 1150461\n",
      "\tJan-2014 works in the 682458\n",
      "\tFeb-2014 works in the 617856\n",
      "\tMar-2014 works in the 824098\n",
      "\tApr-2014 works in the 581943\n",
      "\tMay-2014 works in the 132864\n",
      "\tJun-2014 works in the 448062\n",
      "\tJul-2014 works in the 689161\n",
      "\tAug-2014 works in the 800701\n",
      "\tSep-2014 works in the 1166643\n",
      "\tOct-2014 works in the 947333\n",
      "\tNov-2014 works in the 578668\n",
      "\tDec-2014 works in the 988505\n",
      "\tJan-2015 works in the 1139715\n",
      "\tFeb-2015 works in the 1029471\n",
      "\tMar-2015 works in the 687533\n",
      "\tApr-2015 works in the -524626\n",
      "\tMay-2015 works in the 158620\n",
      "\tJun-2015 works in the 87795\n",
      "\tJul-2015 works in the 423389\n",
      "\tAug-2015 works in the 840723\n",
      "\tSep-2015 works in the 568529\n",
      "\tOct-2015 works in the 332067\n",
      "\tNov-2015 works in the 989499\n",
      "\tDec-2015 works in the 778237\n",
      "\tJan-2016 works in the 650000\n",
      "\tFeb-2016 works in the -1100387\n",
      "\tMar-2016 works in the -174946\n",
      "\tApr-2016 works in the 757143\n",
      "\tMay-2016 works in the 445709\n",
      "\tJun-2016 works in the 712961\n",
      "\tJul-2016 works in the -1163797\n",
      "\tAug-2016 works in the 569899\n",
      "\tSep-2016 works in the 768450\n",
      "\tOct-2016 works in the 102685\n",
      "\tNov-2016 works in the 795914\n",
      "\tDec-2016 works in the 60988\n",
      "\tJan-2017 works in the 138230\n",
      "\tFeb-2017 works in the 671099\n",
      "Processed 87line.\n"
     ]
    }
   ],
   "source": [
    "import csv\n",
    "with open('budget_data.csv') as csv_file:\n",
    "    csv_reader = csv.reader(csv_file, delimiter= ',')\n",
    "    line_count = 0\n",
    "    for row in csv_reader:\n",
    "        if line_count ==0:\n",
    "            print(f'Column name are {\",\".join(row)}')\n",
    "            line_count += 1\n",
    "        else:\n",
    "            print(f'\\t{row[0]} works in the {row[1]}')\n",
    "            line_count += 1\n",
    "    print(f'Processed {line_count}line.')\n",
    "    "
   ]
  },
  {
   "cell_type": "code",
   "execution_count": null,
   "id": "e691e592-6ee8-4d78-aee0-dca9f61d47b7",
   "metadata": {},
   "outputs": [],
   "source": [
    "print(type(budget_csvpath[\"Profit/Losses\"][0])) \n",
    "#class type"
   ]
  }
 ],
 "metadata": {
  "kernelspec": {
   "display_name": "Python 3",
   "language": "python",
   "name": "python3"
  },
  "language_info": {
   "codemirror_mode": {
    "name": "ipython",
    "version": 3
   },
   "file_extension": ".py",
   "mimetype": "text/x-python",
   "name": "python",
   "nbconvert_exporter": "python",
   "pygments_lexer": "ipython3",
   "version": "3.8.8"
  }
 },
 "nbformat": 4,
 "nbformat_minor": 5
}
