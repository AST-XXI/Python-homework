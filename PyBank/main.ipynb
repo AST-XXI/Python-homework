{
 "cells": [
  {
   "cell_type": "code",
   "execution_count": null,
   "id": "3c4e5e8a-3eb9-4723-8e4f-b53705b39e1a",
   "metadata": {},
   "outputs": [],
   "source": [
    "# PyBank Financial Analysis\n"
   ]
  },
  {
   "cell_type": "code",
   "execution_count": 16,
   "id": "d7f78701-8285-4a5f-a359-a8080dd1618a",
   "metadata": {},
   "outputs": [
    {
     "name": "stdout",
     "output_type": "stream",
     "text": [
      "86\n",
      "38382578\n"
     ]
    }
   ],
   "source": [
    "# Inital Imports\n",
    "import pandas as pd\n",
    "from pathlib import Path\n",
    "import csv\n",
    "\n",
    "# File path\n",
    "budget_csvpath = Path(\"budget_data.csv\")\n",
    "budget_csvpath = pd.read_csv(budget_csvpath)\n",
    "\n",
    "#Total Months:\n",
    "print(budget_csvpath[\"Date\"].count())\n",
    "\n",
    "#Total:\n",
    "print(budget_csvpath[\"Profit/Losses\"].sum())\n",
    "\n",
    "Average Change: \n",
    "    \n",
    "    "
   ]
  },
  {
   "cell_type": "code",
   "execution_count": 25,
   "id": "1f380e31-ec7d-4eff-baba-944a53683f87",
   "metadata": {},
   "outputs": [
    {
     "name": "stdout",
     "output_type": "stream",
     "text": [
      "446309.0465116279\n"
     ]
    }
   ],
   "source": [
    "print(budget_csvpath[\"Profit/Losses\"].mean())\n",
    "    \n"
   ]
  },
  {
   "cell_type": "code",
   "execution_count": null,
   "id": "2b4bda43-4822-4a92-bc8e-75c114594f98",
   "metadata": {},
   "outputs": [],
   "source": [
    ".\n",
    "\n"
   ]
  },
  {
   "cell_type": "code",
   "execution_count": null,
   "id": "156dd1de-2e0d-4cd7-a55a-024a0fb61fe9",
   "metadata": {},
   "outputs": [],
   "source": [
    "# The average of the changes in Profit/Losses over the entire period.\n",
    "\n",
    "# The greatest increase in profits (date and amount) over the entire period.\n",
    "\n"
   ]
  },
  {
   "cell_type": "code",
   "execution_count": null,
   "id": "d4e2ba6b-00ee-47ae-b827-0a659aa4721f",
   "metadata": {},
   "outputs": [],
   "source": [
    "budget_csvpath.sum()"
   ]
  },
  {
   "cell_type": "code",
   "execution_count": null,
   "id": "5400e53a-f6c8-40a9-810d-856935a5cec9",
   "metadata": {},
   "outputs": [],
   "source": [
    "#The greatest decrease in losses (date and amount) over the entire period."
   ]
  },
  {
   "cell_type": "code",
   "execution_count": null,
   "id": "2ce263f7-d277-4253-9aba-92bc12f37855",
   "metadata": {},
   "outputs": [],
   "source": []
  }
 ],
 "metadata": {
  "kernelspec": {
   "display_name": "Python 3",
   "language": "python",
   "name": "python3"
  },
  "language_info": {
   "codemirror_mode": {
    "name": "ipython",
    "version": 3
   },
   "file_extension": ".py",
   "mimetype": "text/x-python",
   "name": "python",
   "nbconvert_exporter": "python",
   "pygments_lexer": "ipython3",
   "version": "3.8.8"
  }
 },
 "nbformat": 4,
 "nbformat_minor": 5
}
