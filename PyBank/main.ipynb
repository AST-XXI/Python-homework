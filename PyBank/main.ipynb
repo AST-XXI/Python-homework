{
 "cells": [
  {
   "cell_type": "code",
   "execution_count": null,
   "id": "3c4e5e8a-3eb9-4723-8e4f-b53705b39e1a",
   "metadata": {},
   "outputs": [],
   "source": [
    "# PyBank Financial Analysis\n"
   ]
  },
  {
   "cell_type": "code",
   "execution_count": 63,
   "id": "d7f78701-8285-4a5f-a359-a8080dd1618a",
   "metadata": {},
   "outputs": [
    {
     "name": "stdout",
     "output_type": "stream",
     "text": [
      "['Date', 'Profit/Losses']\n",
      "['Jan-2010', '867884']\n"
     ]
    },
    {
     "ename": "TypeError",
     "evalue": "'int' object is not iterable",
     "output_type": "error",
     "traceback": [
      "\u001b[1;31m---------------------------------------------------------------------------\u001b[0m",
      "\u001b[1;31mTypeError\u001b[0m                                 Traceback (most recent call last)",
      "\u001b[1;32m<ipython-input-63-6d6877e71ff1>\u001b[0m in \u001b[0;36m<module>\u001b[1;34m\u001b[0m\n\u001b[0;32m     31\u001b[0m         \u001b[0mprofit_losses_diff\u001b[0m \u001b[1;33m=\u001b[0m \u001b[1;33m(\u001b[0m\u001b[0mcurrenct_price\u001b[0m \u001b[1;33m-\u001b[0m \u001b[0mprevious_price\u001b[0m\u001b[1;33m)\u001b[0m\u001b[1;33m\u001b[0m\u001b[1;33m\u001b[0m\u001b[0m\n\u001b[0;32m     32\u001b[0m \u001b[1;33m\u001b[0m\u001b[0m\n\u001b[1;32m---> 33\u001b[1;33m         \u001b[1;32mfor\u001b[0m \u001b[0mx\u001b[0m \u001b[1;32min\u001b[0m \u001b[0mprofit_losses_diff\u001b[0m\u001b[1;33m:\u001b[0m\u001b[1;33m\u001b[0m\u001b[1;33m\u001b[0m\u001b[0m\n\u001b[0m\u001b[0;32m     34\u001b[0m             \u001b[1;32mif\u001b[0m \u001b[1;33m(\u001b[0m\u001b[0mprevious_price\u001b[0m \u001b[1;33m==\u001b[0m \u001b[1;36m0\u001b[0m \u001b[1;32mand\u001b[0m \u001b[0mcurrenct_price\u001b[0m \u001b[1;33m==\u001b[0m \u001b[1;36m0\u001b[0m\u001b[1;33m)\u001b[0m\u001b[1;33m:\u001b[0m\u001b[1;33m\u001b[0m\u001b[1;33m\u001b[0m\u001b[0m\n\u001b[0;32m     35\u001b[0m                 \u001b[0mprevious_price\u001b[0m \u001b[1;33m=\u001b[0m \u001b[0mcurrenct_price\u001b[0m\u001b[1;33m\u001b[0m\u001b[1;33m\u001b[0m\u001b[0m\n",
      "\u001b[1;31mTypeError\u001b[0m: 'int' object is not iterable"
     ]
    }
   ],
   "source": [
    "# Inital Imports\n",
    "\n",
    "from pathlib import Path\n",
    "import csv\n",
    "\n",
    "# File path\n",
    "budget_csvpath = Path(\"../PyBank/Resources/budget_data.csv\")\n",
    "\n",
    "# Initialize list of records\n",
    "records = []\n",
    "\n",
    "# Open the csv file as an object\n",
    "with open(budget_csvpath, 'r') as csvfile:\n",
    "    csvreader = csv.reader(csvfile, delimiter=',')\n",
    "    csv_header = next(csvreader)\n",
    "    print(csv_header)\n",
    "    \n",
    "# Append the column \"profit_losses_diff\" to the header currenct_price - previous_price\n",
    "\n",
    "    csv_header.append(\"profit_losses_diff\") \n",
    "    records.append(csv_header)\n",
    "    \n",
    "    for row in csvreader:\n",
    "        print(row)\n",
    "        \n",
    "        previous_price = 0\n",
    "        currenct_price = 0\n",
    "        profit_losses_diff = []\n",
    "        profit_losses= int(row[1])\n",
    "        \n",
    "        profit_losses_diff = (currenct_price - previous_price)\n",
    "        \n",
    "        for x in profit_losses_diff:\n",
    "            if (previous_price == 0 and currenct_price == 0):\n",
    "                previous_price = currenct_price\n",
    "                currenct_price = x\n",
    "            else:\n",
    "                previous_price = currenct_price\n",
    "                currenct_price = x\n",
    "                a = currenct_price - previous_price\n",
    "                profit_losses_diff(a)\n",
    "                print(profit_losses_diff)\n",
    "     \n",
    "        \n",
    "        row.append(profit_losses_diff)\n",
    "        \n",
    "        records.append(row)\n",
    "        \n",
    "output = Path(\"output.csv\")\n",
    "\n",
    "# Output csv file\n",
    "    \n",
    "with open(output, 'w') as csvfile:\n",
    "    csvwriter = csv.writer(csvfile, delimiter=',')\n",
    "    for record in records:\n",
    "        csvwriter.writerow(record)\n",
    "   "
   ]
  },
  {
   "cell_type": "code",
   "execution_count": null,
   "id": "7ec5e9b9-4228-4adf-8081-2a7e2247ff71",
   "metadata": {},
   "outputs": [],
   "source": []
  },
  {
   "cell_type": "code",
   "execution_count": 65,
   "id": "1f380e31-ec7d-4eff-baba-944a53683f87",
   "metadata": {},
   "outputs": [
    {
     "name": "stdout",
     "output_type": "stream",
     "text": [
      "86\n",
      "38382578\n"
     ]
    }
   ],
   "source": [
    "# Inital Imports\n",
    "import pandas as pd\n",
    "from pathlib import Path\n",
    "import csv\n",
    "\n",
    "# File path\n",
    "budget_csvpath = Path(\"../PyBank/Resources/budget_data.csv\")\n",
    "budget_csvpath = pd.read_csv(budget_csvpath)\n",
    "\n",
    "#Total Months:\n",
    "print(budget_csvpath[\"Date\"].count())\n",
    "\n",
    "#Total:\n",
    "print(budget_csvpath[\"Profit/Losses\"].sum())"
   ]
  },
  {
   "cell_type": "code",
   "execution_count": null,
   "id": "2b4bda43-4822-4a92-bc8e-75c114594f98",
   "metadata": {},
   "outputs": [],
   "source": [
    "\n"
   ]
  },
  {
   "cell_type": "code",
   "execution_count": null,
   "id": "156dd1de-2e0d-4cd7-a55a-024a0fb61fe9",
   "metadata": {},
   "outputs": [],
   "source": []
  },
  {
   "cell_type": "code",
   "execution_count": null,
   "id": "d4e2ba6b-00ee-47ae-b827-0a659aa4721f",
   "metadata": {},
   "outputs": [],
   "source": []
  },
  {
   "cell_type": "code",
   "execution_count": null,
   "id": "5400e53a-f6c8-40a9-810d-856935a5cec9",
   "metadata": {},
   "outputs": [],
   "source": []
  },
  {
   "cell_type": "code",
   "execution_count": null,
   "id": "2ce263f7-d277-4253-9aba-92bc12f37855",
   "metadata": {},
   "outputs": [],
   "source": []
  }
 ],
 "metadata": {
  "kernelspec": {
   "display_name": "Python 3",
   "language": "python",
   "name": "python3"
  },
  "language_info": {
   "codemirror_mode": {
    "name": "ipython",
    "version": 3
   },
   "file_extension": ".py",
   "mimetype": "text/x-python",
   "name": "python",
   "nbconvert_exporter": "python",
   "pygments_lexer": "ipython3",
   "version": "3.8.8"
  }
 },
 "nbformat": 4,
 "nbformat_minor": 5
}
