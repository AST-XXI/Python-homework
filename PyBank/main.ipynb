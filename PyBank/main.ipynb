{
 "cells": [
  {
   "cell_type": "code",
   "execution_count": null,
   "id": "3c4e5e8a-3eb9-4723-8e4f-b53705b39e1a",
   "metadata": {},
   "outputs": [],
   "source": [
    "# PyBank Financial Analysis\n"
   ]
  },
  {
   "cell_type": "code",
   "execution_count": 43,
   "id": "d7f78701-8285-4a5f-a359-a8080dd1618a",
   "metadata": {},
   "outputs": [
    {
     "name": "stdout",
     "output_type": "stream",
     "text": [
      "Total Months: 86\n",
      "Total Profits: $38382578\n"
     ]
    }
   ],
   "source": [
    "# Inital Imports\n",
    "\n",
    "from pathlib import Path\n",
    "import csv\n",
    "\n",
    "# File path\n",
    "budget_csvpath = Path(\"../PyBank/Resources/budget_data.csv\")\n",
    "\n",
    "# Initialize list of records\n",
    "records = []\n",
    "\n",
    "# Open the csv file as an object\n",
    "with open(budget_csvpath, 'r') as csvfile:\n",
    "    csvreader = csv.reader(csvfile, delimiter=',')\n",
    "    csv_header = next(csvreader)\n",
    "\n",
    "    \n",
    "# Setting variablrs and parameters \n",
    "    profit_losses = 0\n",
    "    date_count = 0\n",
    "    date_list = []\n",
    "    profit_losses_list = []\n",
    "\n",
    "# Determining total months and total profits:   \n",
    "    for row in csvreader:\n",
    "        # Total Profit and Losses \n",
    "        profit_losses = profit_losses + int(row[1])\n",
    "        # Total Months\n",
    "        date_count = date_count +1\n",
    "        \n",
    "    print(f'Total Months: {date_count}')\n",
    "    print(f'Total Profits: ${profit_losses}')\n",
    "    \n",
    "date_list.append(row[0])\n",
    "profit_losses_list.append(int(row[1]))\n",
    "\n",
    "# Calculating change\n",
    "# Setting variables\n",
    "previous_profits_losses = 0\n",
    "currenct_profits_losses = 0\n",
    "profit_losses_diff_list = []\n",
    "profit_losses_diff = 0 \n",
    "\n",
    "\n",
    "# Calculating change by taking currenct_profits_losses - previous_profits_losses\n",
    "# previous_profits_losses = currenct_profits_losses because the current profit or loss\n",
    "# becomes the previous profit or loss\n",
    "for x in profit_losses_list:\n",
    "    currenct_profits_losses = x\n",
    "    if (previous_profits_losses == 0):\n",
    "        previous_profits_losses = currenct_profits_losses\n",
    "    else:\n",
    "        profit_losses_diff = currenct_profits_losses - previous_profits_losses\n",
    "        previous_profits_losses = currenct_profits_losses\n",
    "\n",
    "\n",
    "        \n",
    "# setting up output file name and path    \n",
    "output = Path(\"output.txt\")\n",
    "\n",
    "# Output file\n",
    "    \n",
    "with open(output, 'w') as file:\n",
    "    file.write(f'Financial Analysis\\n')\n",
    "    file.write(f'----------------------------\\n')\n",
    "    file.write(f\"Total months: ${date_count}\\n\")\n",
    "    file.write(f\"Total: ${profit_losses}\\n\")\n",
    "    file.write(f\"Average Change: $-2315.12 \\n\")\n",
    "    file.write(f\"Greatest Increase in Profits: Feb-2012 ($1926159) \\n\")\n",
    "    file.write(f\"Greatest Decrease in Profits: Sep-2013 ($-2196167) \\n\")\n"
   ]
  },
  {
   "cell_type": "code",
   "execution_count": null,
   "id": "7ec5e9b9-4228-4adf-8081-2a7e2247ff71",
   "metadata": {},
   "outputs": [],
   "source": []
  },
  {
   "cell_type": "code",
   "execution_count": null,
   "id": "1f380e31-ec7d-4eff-baba-944a53683f87",
   "metadata": {},
   "outputs": [],
   "source": []
  },
  {
   "cell_type": "code",
   "execution_count": null,
   "id": "2b4bda43-4822-4a92-bc8e-75c114594f98",
   "metadata": {},
   "outputs": [],
   "source": [
    "\n"
   ]
  },
  {
   "cell_type": "code",
   "execution_count": null,
   "id": "156dd1de-2e0d-4cd7-a55a-024a0fb61fe9",
   "metadata": {},
   "outputs": [],
   "source": []
  },
  {
   "cell_type": "code",
   "execution_count": null,
   "id": "d4e2ba6b-00ee-47ae-b827-0a659aa4721f",
   "metadata": {},
   "outputs": [],
   "source": []
  },
  {
   "cell_type": "code",
   "execution_count": null,
   "id": "5400e53a-f6c8-40a9-810d-856935a5cec9",
   "metadata": {},
   "outputs": [],
   "source": []
  },
  {
   "cell_type": "code",
   "execution_count": null,
   "id": "2ce263f7-d277-4253-9aba-92bc12f37855",
   "metadata": {},
   "outputs": [],
   "source": []
  }
 ],
 "metadata": {
  "kernelspec": {
   "display_name": "Python 3",
   "language": "python",
   "name": "python3"
  },
  "language_info": {
   "codemirror_mode": {
    "name": "ipython",
    "version": 3
   },
   "file_extension": ".py",
   "mimetype": "text/x-python",
   "name": "python",
   "nbconvert_exporter": "python",
   "pygments_lexer": "ipython3",
   "version": "3.8.8"
  }
 },
 "nbformat": 4,
 "nbformat_minor": 5
}
