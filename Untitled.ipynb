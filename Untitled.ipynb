{
 "cells": [
  {
   "cell_type": "code",
   "execution_count": null,
   "id": "3ada9544-196e-410d-9050-19e9ce1732ec",
   "metadata": {},
   "outputs": [],
   "source": [
    "# Inital Imports\n",
    "from pathlib import Path\n",
    "import csv\n",
    "\n",
    "# File path\n",
    "budget_csvpath = Path(\"../PyBank/Resources/budget_data.csv\")\n",
    "\n"
   ]
  },
  {
   "cell_type": "code",
   "execution_count": null,
   "id": "e13379ec-0477-4755-8574-3697885d052f",
   "metadata": {},
   "outputs": [],
   "source": [
    "previous_price = 0\n",
    "currenct_price = 0\n",
    "threshold = 5\n",
    "min\n",
    "def make_decision (previous_price,currenct_price, threshold):\n",
    "    if currenct_price - previous_price > threshold:\n",
    "        decision = 'Sell'\n",
    "    elif currenct_price - previous_price < threshold *-1:\n",
    "        decision = 'buy'\n",
    "    else:\n",
    "        decision = 'hold'\n",
    "    return decision\n",
    "print(make_decision (previous_price,currenct_price, threshold))\n",
    "price_list = [280,201,215,212,245,214,230,265,266,267,280,300]\n",
    "for i in price_list:\n",
    "        previous_price = currenct_price\n",
    "        currenct_price = i\n",
    "        decision = make_decision (previous_price,currenct_price, threshold)\n",
    "        print(decision)"
   ]
  },
  {
   "cell_type": "code",
   "execution_count": 15,
   "id": "44baff23-0214-41c2-80f4-bfbbe7da36b1",
   "metadata": {},
   "outputs": [
    {
     "name": "stdout",
     "output_type": "stream",
     "text": [
      "Sell\n",
      "hold\n",
      "Sell\n",
      "buy\n",
      "Sell\n",
      "Sell\n",
      "hold\n",
      "hold\n",
      "Sell\n",
      "Sell\n"
     ]
    }
   ],
   "source": [
    "previous_price = 0\n",
    "currenct_price = 0\n",
    "threshold = 5\n",
    "def make_decision (previous_price,currenct_price, threshold):\n",
    "    if currenct_price - previous_price > threshold:\n",
    "        decision = 'Sell'\n",
    "    elif currenct_price - previous_price < threshold *-1:\n",
    "        decision = 'buy'\n",
    "    else:\n",
    "        decision = 'hold'\n",
    "    return decision\n",
    "#print(make_decision (previous_price,currenct_price, threshold))\n",
    "price_list = [280,201,215,212,245,214,230,265,266,267,280,300]\n",
    "for i in price_list:\n",
    "    if (previous_price == 0 and currenct_price == 0) or previous_price == 0:\n",
    "        previous_price = currenct_price\n",
    "        currenct_price = i\n",
    "    else:\n",
    "        previous_price = currenct_price\n",
    "        currenct_price = i\n",
    "        decision = make_decision (previous_price,currenct_price, threshold)\n",
    "        print(decision)"
   ]
  },
  {
   "cell_type": "code",
   "execution_count": 16,
   "id": "8efa542a-24be-4d71-a8f3-12c5974fc1c8",
   "metadata": {},
   "outputs": [
    {
     "name": "stdout",
     "output_type": "stream",
     "text": [
      "20\n"
     ]
    }
   ],
   "source": [
    "previous_price = 0\n",
    "currenct_price = 0\n",
    "price_list_diff = []\n",
    "price_list = [280,201,215,212,245,214,230,265,266,267,280,300]\n",
    "for i in price_list:\n",
    "    if (previous_price == 0 and currenct_price == 0) or previous_price == 0:\n",
    "        previous_price = currenct_price\n",
    "        currenct_price = i\n",
    "    else:\n",
    "        previous_price = currenct_price\n",
    "        currenct_price = i\n",
    "        price_list_diff = currenct_price - previous_price\n",
    "print(price_list_diff)"
   ]
  },
  {
   "cell_type": "code",
   "execution_count": null,
   "id": "49cbc931-a37f-4347-b4f6-35704fe181d4",
   "metadata": {},
   "outputs": [],
   "source": []
  },
  {
   "cell_type": "code",
   "execution_count": null,
   "id": "fcc17377-433e-4607-b505-0faad767131e",
   "metadata": {},
   "outputs": [],
   "source": []
  }
 ],
 "metadata": {
  "kernelspec": {
   "display_name": "Python 3",
   "language": "python",
   "name": "python3"
  },
  "language_info": {
   "codemirror_mode": {
    "name": "ipython",
    "version": 3
   },
   "file_extension": ".py",
   "mimetype": "text/x-python",
   "name": "python",
   "nbconvert_exporter": "python",
   "pygments_lexer": "ipython3",
   "version": "3.8.8"
  }
 },
 "nbformat": 4,
 "nbformat_minor": 5
}
